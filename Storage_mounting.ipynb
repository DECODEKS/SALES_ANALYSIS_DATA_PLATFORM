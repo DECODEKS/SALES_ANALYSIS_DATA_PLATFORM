{
 "cells": [
  {
   "cell_type": "markdown",
   "metadata": {
    "application/vnd.databricks.v1+cell": {
     "cellMetadata": {},
     "inputWidgets": {},
     "nuid": "06de4a11-0a46-417b-8373-b4cbc2a76d11",
     "showTitle": false,
     "title": ""
    }
   },
   "source": [
    "<h2>Project: sales Analysis data platform\n",
    "</span>\n",
    "  <h5>\n",
    "    <span style=\"color:red\">\n",
    "<b>Author: Tipu Raj <br>\n",
    "   Email at: tipuraj3@gmail.com\n",
    "   <br><a href =\"https://www.linkedin.com/in/tipu-raj-677062122/\" > Tipu Raj Linkedin </a>\n",
    "</span>"
   ]
  },
  {
   "cell_type": "markdown",
   "metadata": {
    "application/vnd.databricks.v1+cell": {
     "cellMetadata": {
      "byteLimit": 2048000,
      "rowLimit": 10000
     },
     "inputWidgets": {},
     "nuid": "9926cfd0-c5ac-42fc-b88c-2a018d060b29",
     "showTitle": false,
     "title": ""
    }
   },
   "source": [
    "# Mounting the landing Storage container."
   ]
  },
  {
   "cell_type": "code",
   "execution_count": null,
   "metadata": {
    "application/vnd.databricks.v1+cell": {
     "cellMetadata": {
      "byteLimit": 2048000,
      "rowLimit": 10000
     },
     "inputWidgets": {},
     "nuid": "c0177bd8-0f7d-4d41-b2f6-52d401029709",
     "showTitle": false,
     "title": ""
    }
   },
   "outputs": [],
   "source": [
    "dbutils.fs.mount( source= 'wasbs://landing@storexyza.blob.core.windows.net',\n",
    "                 mount_point='/mnt/landing',\n",
    "                 extra_configs={'fs.azure.sas.landing.storexyza.blob.core.windows.net':\n",
    "                                '?sv=2022-11-02&ss=bfqt&srt=sco&sp=rwdlacupyx&se=2023-06-29T20:34:04Z&st=2023-05-31T12:34:04Z&spr=https&sig=BO3q0PeqkH4xjZXxafiqxnW8rotQrZULoNl5YYaPhwM%3D'})"
   ]
  },
  {
   "cell_type": "markdown",
   "metadata": {},
   "source": [
    "# Checking the landing storage container"
   ]
  },
  {
   "cell_type": "code",
   "execution_count": null,
   "metadata": {
    "application/vnd.databricks.v1+cell": {
     "cellMetadata": {
      "byteLimit": 2048000,
      "rowLimit": 10000
     },
     "inputWidgets": {},
     "nuid": "06075c54-7a52-4f5c-ab85-27b92d275710",
     "showTitle": false,
     "title": ""
    }
   },
   "outputs": [],
   "source": [
    "%fs\n",
    "ls /mnt/landing"
   ]
  },
  {
   "cell_type": "markdown",
   "metadata": {},
   "source": [
    "# Mounting the Staged storage container"
   ]
  },
  {
   "cell_type": "code",
   "execution_count": null,
   "metadata": {},
   "outputs": [],
   "source": [
    "dbutils.fs.mount( source= 'wasbs://staged@storexyza.blob.core.windows.net',\n",
    "                 mount_point='/mnt/staged',\n",
    "                 extra_configs={'fs.azure.sas.staged.storexyza.blob.core.windows.net':\n",
    "                                '?sv=2022-11-02&ss=bfqt&srt=sco&sp=rwdlacupyx&se=2023-06-29T20:34:04Z&st=2023-05-31T12:34:04Z&spr=https&sig=BO3q0PeqkH4xjZXxafiqxnW8rotQrZULoNl5YYaPhwM%3D'})"
   ]
  },
  {
   "cell_type": "markdown",
   "metadata": {},
   "source": [
    "# Checking the staged storage container"
   ]
  },
  {
   "cell_type": "code",
   "execution_count": null,
   "metadata": {},
   "outputs": [],
   "source": [
    "%fs\n",
    "ls /mnt/staged"
   ]
  },
  {
   "cell_type": "code",
   "execution_count": null,
   "metadata": {},
   "outputs": [],
   "source": []
  },
  {
   "cell_type": "code",
   "execution_count": null,
   "metadata": {},
   "outputs": [],
   "source": []
  }
 ],
 "metadata": {
  "application/vnd.databricks.v1+notebook": {
   "dashboards": [],
   "language": "python",
   "notebookMetadata": {
    "pythonIndentUnit": 2
   },
   "notebookName": "POS_Impl",
   "widgets": {}
  },
  "kernelspec": {
   "display_name": "Python 3 (ipykernel)",
   "language": "python",
   "name": "python3"
  },
  "language_info": {
   "codemirror_mode": {
    "name": "ipython",
    "version": 3
   },
   "file_extension": ".py",
   "mimetype": "text/x-python",
   "name": "python",
   "nbconvert_exporter": "python",
   "pygments_lexer": "ipython3",
   "version": "3.9.13"
  }
 },
 "nbformat": 4,
 "nbformat_minor": 1
}
